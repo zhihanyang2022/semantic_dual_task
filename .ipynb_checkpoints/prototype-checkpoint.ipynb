{
 "cells": [
  {
   "cell_type": "markdown",
   "metadata": {},
   "source": [
    "## Pseudo-code"
   ]
  },
  {
   "cell_type": "code",
   "execution_count": 6,
   "metadata": {
    "ExecuteTime": {
     "end_time": "2020-04-24T02:08:57.294801Z",
     "start_time": "2020-04-24T02:08:57.291567Z"
    }
   },
   "outputs": [],
   "source": [
    "# setup\n",
    "# (x) randomly pick 300 words from ../vocab.txt (this will be given by Julia)\n",
    "# (x) save that as a txt file, one line per word\n",
    "# (x) generate a list containing 2500-3500ms (include start and end) in 250ms intervals\n",
    "# (x) write a python function (inside) that 1) load 2) randomize and 3) return a list of 4 lists of 75 words\n",
    "# (x) write a python function (inside) that randomly pick a interstimuli time"
   ]
  },
  {
   "cell_type": "code",
   "execution_count": 7,
   "metadata": {
    "ExecuteTime": {
     "end_time": "2020-04-24T02:08:57.608531Z",
     "start_time": "2020-04-24T02:08:57.603874Z"
    }
   },
   "outputs": [],
   "source": [
    "import time\n",
    "import keyboard\n",
    "import numpy as np\n",
    "import sys\n",
    "sys.path.append('../scripts/')\n",
    "import time_util as tu\n",
    "from psychopy.hardware import keyboard\n",
    "import ipywidgets as widgets\n",
    "import IPython.display as ipd\n",
    "import threading"
   ]
  },
  {
   "cell_type": "markdown",
   "metadata": {},
   "source": [
    "## Setup"
   ]
  },
  {
   "cell_type": "code",
   "execution_count": 8,
   "metadata": {
    "ExecuteTime": {
     "end_time": "2020-04-24T02:08:58.721850Z",
     "start_time": "2020-04-24T02:08:58.714563Z"
    }
   },
   "outputs": [],
   "source": [
    "kNUM_WORDS_PER_COND = 60\n",
    "kNUM_CONDS = 4"
   ]
  },
  {
   "cell_type": "markdown",
   "metadata": {},
   "source": [
    "Tasks:\n",
    "- randomly pick 300 words from ../vocab.txt (this will be given by Julia)\n",
    "- save that as a txt file, one line per word"
   ]
  },
  {
   "cell_type": "code",
   "execution_count": 10,
   "metadata": {
    "ExecuteTime": {
     "end_time": "2020-04-24T02:09:10.628589Z",
     "start_time": "2020-04-24T02:09:10.618088Z"
    }
   },
   "outputs": [],
   "source": [
    "with open('../vocab.txt', 'r') as txt_f:\n",
    "    words = [word.rstrip() for word in txt_f.readlines()]"
   ]
  },
  {
   "cell_type": "code",
   "execution_count": 18,
   "metadata": {
    "ExecuteTime": {
     "end_time": "2020-04-24T02:09:33.596457Z",
     "start_time": "2020-04-24T02:09:33.590823Z"
    }
   },
   "outputs": [],
   "source": [
    "np.random.seed(1)\n",
    "sdt_words = np.random.choice(words, size=kNUM_WORDS_PER_COND * kNUM_CONDS)"
   ]
  },
  {
   "cell_type": "code",
   "execution_count": 19,
   "metadata": {
    "ExecuteTime": {
     "end_time": "2020-04-24T02:09:33.957729Z",
     "start_time": "2020-04-24T02:09:33.950700Z"
    }
   },
   "outputs": [],
   "source": [
    "with open('sdt_vocab.txt', 'w+') as txt_f:\n",
    "    for word in sdt_words:\n",
    "        txt_f.write(word + '\\n')"
   ]
  },
  {
   "cell_type": "code",
   "execution_count": 20,
   "metadata": {
    "ExecuteTime": {
     "end_time": "2020-04-24T02:09:34.137205Z",
     "start_time": "2020-04-24T02:09:34.131137Z"
    }
   },
   "outputs": [],
   "source": [
    "def get_word_lists(sdt_vocab_fpath):\n",
    "    with open(sdt_vocab_fpath, 'r') as txt_f:\n",
    "        words = [word.rstrip() for word in txt_f.readlines()]\n",
    "    np.random.shuffle(words)\n",
    "    return np.split(np.array(words), kNUM_CONDS)"
   ]
  },
  {
   "cell_type": "code",
   "execution_count": 21,
   "metadata": {
    "ExecuteTime": {
     "end_time": "2020-04-24T02:09:34.286474Z",
     "start_time": "2020-04-24T02:09:34.280657Z"
    }
   },
   "outputs": [],
   "source": [
    "word_lists = get_word_lists('sdt_vocab.txt')"
   ]
  },
  {
   "cell_type": "code",
   "execution_count": 22,
   "metadata": {
    "ExecuteTime": {
     "end_time": "2020-04-24T02:09:34.445757Z",
     "start_time": "2020-04-24T02:09:34.439125Z"
    }
   },
   "outputs": [
    {
     "data": {
      "text/plain": [
       "60"
      ]
     },
     "execution_count": 22,
     "metadata": {},
     "output_type": "execute_result"
    }
   ],
   "source": [
    "len(word_lists[0])"
   ]
  },
  {
   "cell_type": "markdown",
   "metadata": {},
   "source": [
    "Tasks:\n",
    "- generate a list containing 2500-3500ms (include start and end) in 250ms intervals\n",
    "- save that as a json file"
   ]
  },
  {
   "cell_type": "code",
   "execution_count": 23,
   "metadata": {
    "ExecuteTime": {
     "end_time": "2020-04-24T02:09:35.619719Z",
     "start_time": "2020-04-24T02:09:35.615425Z"
    }
   },
   "outputs": [],
   "source": [
    "def get_interstim_intervals_for_all(size=300):\n",
    "    choices = np.arange(2500, 3500 + 1, 250)\n",
    "    return np.random.choice(choices, size=size)"
   ]
  },
  {
   "cell_type": "code",
   "execution_count": 24,
   "metadata": {
    "ExecuteTime": {
     "end_time": "2020-04-24T02:09:36.298333Z",
     "start_time": "2020-04-24T02:09:36.289969Z"
    }
   },
   "outputs": [
    {
     "data": {
      "text/plain": [
       "array([3500, 3500, 3000, 2500, 3250, 3000, 3500, 2500, 3500, 3000])"
      ]
     },
     "execution_count": 24,
     "metadata": {},
     "output_type": "execute_result"
    }
   ],
   "source": [
    "get_interstim_intervals_for_all()[:10]"
   ]
  },
  {
   "cell_type": "code",
   "execution_count": 14,
   "metadata": {
    "ExecuteTime": {
     "end_time": "2020-03-05T03:12:44.567711Z",
     "start_time": "2020-03-05T03:12:44.556292Z"
    }
   },
   "outputs": [
    {
     "data": {
      "text/plain": [
       "300"
      ]
     },
     "execution_count": 14,
     "metadata": {},
     "output_type": "execute_result"
    }
   ],
   "source": [
    "len(get_interstim_intervals_for_all())"
   ]
  },
  {
   "cell_type": "markdown",
   "metadata": {},
   "source": [
    "## Experiment"
   ]
  },
  {
   "cell_type": "code",
   "execution_count": 27,
   "metadata": {
    "ExecuteTime": {
     "end_time": "2020-04-24T02:11:32.327279Z",
     "start_time": "2020-04-24T02:11:32.324154Z"
    }
   },
   "outputs": [],
   "source": [
    "# experiment:\n",
    "# kNUM_WORDS_PER_COND = 75\n",
    "# interstim_intervals = get_interstim_interval_for_all(size=300)\n",
    "# for i, condition in enumerate(randomize(noise_conditions)):\n",
    "#     word_list = word_lists[idx]\n",
    "#     for j, word in enumerate(word_list):\n",
    "#         print(word) <- timer starts\n",
    "#         make noun judgment <- takes no time\n",
    "#         record word presented, present time, interstimulus interval, response time <- takes no time\n",
    "#         time.sleep(interstim_intervals[i * kNUM_WORDS_PER_COND + j])"
   ]
  },
  {
   "cell_type": "code",
   "execution_count": 28,
   "metadata": {
    "ExecuteTime": {
     "end_time": "2020-04-24T02:11:33.971736Z",
     "start_time": "2020-04-24T02:11:33.967401Z"
    }
   },
   "outputs": [],
   "source": [
    "class Clock:\n",
    "    \n",
    "    @property\n",
    "    def now(self):\n",
    "        return time.time()"
   ]
  },
  {
   "cell_type": "code",
   "execution_count": 29,
   "metadata": {
    "ExecuteTime": {
     "end_time": "2020-04-24T02:11:34.116720Z",
     "start_time": "2020-04-24T02:11:34.109836Z"
    }
   },
   "outputs": [],
   "source": [
    "class Timer:\n",
    "    \n",
    "    def __init__(self):\n",
    "        self.start, self.end = None, None\n",
    "        \n",
    "    def record_start(self, time):\n",
    "        self.start = time\n",
    "        \n",
    "    def record_end(self, time):\n",
    "        self.end = time\n",
    "        \n",
    "    def get_duration(self):\n",
    "        return self.end - self.start"
   ]
  },
  {
   "cell_type": "code",
   "execution_count": 30,
   "metadata": {
    "ExecuteTime": {
     "end_time": "2020-04-24T02:11:34.276154Z",
     "start_time": "2020-04-24T02:11:34.271483Z"
    }
   },
   "outputs": [],
   "source": [
    "class TimerFactory:\n",
    "    \n",
    "    def get_new_timer(self):\n",
    "        return Timer()"
   ]
  },
  {
   "cell_type": "code",
   "execution_count": 31,
   "metadata": {
    "ExecuteTime": {
     "end_time": "2020-04-24T02:11:38.737786Z",
     "start_time": "2020-04-24T02:11:38.725298Z"
    }
   },
   "outputs": [],
   "source": [
    "class Experiment:\n",
    "    \n",
    "    def __init__(self):\n",
    "        self._running = True\n",
    "        self.resps = []\n",
    "        \n",
    "    def is_noun(self, temp):\n",
    "        self.resps.append(1)\n",
    "        print('Response time:', round(self.clock.now - self.timer.start, 3), 'seconds')\n",
    "        \n",
    "    def terminate(self):\n",
    "        self._running = False\n",
    "    \n",
    "    def run(self, button):\n",
    "\n",
    "        self.clock = Clock()\n",
    "        timer_factory = TimerFactory()\n",
    "        timers = []\n",
    "\n",
    "        default_keyboard = keyboard.Keyboard()\n",
    "\n",
    "        noise_conds = ['1', '2', '3', '4']\n",
    "        interstim_intervals = get_interstim_intervals_for_all(size=240)\n",
    "\n",
    "        for i, cond in enumerate(noise_conds):\n",
    "            word_list = word_lists[i]\n",
    "            for j, word in enumerate(word_list):\n",
    "                \n",
    "                if self._running:\n",
    "\n",
    "                    resps_len_before = len(self.resps)\n",
    "\n",
    "                    max_resp_time = interstim_intervals[i * kNUM_WORDS_PER_COND + j]\n",
    "\n",
    "                    self.timer = timer_factory.get_new_timer()\n",
    "                    self.timer.start = self.clock.now\n",
    "\n",
    "                    print(word)\n",
    "                    ipd.display(button)\n",
    "                    time.sleep(max_resp_time / 1000)\n",
    "                    ipd.clear_output()\n",
    "\n",
    "                    resps_len_after = len(self.resps)\n",
    "\n",
    "                    if resps_len_after == resps_len_before:\n",
    "                        self.resps.append(0)\n",
    "                    elif resps_len_after - resps_len_before >= 2:\n",
    "                        self.resps = self.resps[:resps_len_before+1]\n",
    "\n",
    "                    print('Responses:', self.resps)"
   ]
  },
  {
   "cell_type": "code",
   "execution_count": 32,
   "metadata": {
    "ExecuteTime": {
     "end_time": "2020-04-24T02:11:39.446629Z",
     "start_time": "2020-04-24T02:11:39.429737Z"
    }
   },
   "outputs": [
    {
     "name": "stdout",
     "output_type": "stream",
     "text": [
      "Responses: [0, 1, 1, 1, 1, 0]\n",
      "pastor\n"
     ]
    },
    {
     "data": {
      "application/vnd.jupyter.widget-view+json": {
       "model_id": "5bab429ffb6949efbda3a527a508ccb8",
       "version_major": 2,
       "version_minor": 0
      },
      "text/plain": [
       "Button(description='This is a noun!', layout=Layout(width='300px'), style=ButtonStyle())"
      ]
     },
     "metadata": {},
     "output_type": "display_data"
    }
   ],
   "source": [
    "sdt = Experiment()\n",
    "\n",
    "button = widgets.Button(\n",
    "    description='This is a noun!',\n",
    "    layout={'width': '300px'}\n",
    ")\n",
    "button.on_click(sdt.is_noun)\n",
    "\n",
    "thread = threading.Thread(target=sdt.run, args=(button, ))\n",
    "thread.start()"
   ]
  },
  {
   "cell_type": "code",
   "execution_count": 38,
   "metadata": {
    "ExecuteTime": {
     "end_time": "2020-03-05T03:17:34.359703Z",
     "start_time": "2020-03-05T03:17:34.356009Z"
    }
   },
   "outputs": [],
   "source": [
    "sdt.terminate()\n",
    "thread.join()"
   ]
  },
  {
   "cell_type": "code",
   "execution_count": null,
   "metadata": {},
   "outputs": [],
   "source": []
  },
  {
   "cell_type": "code",
   "execution_count": null,
   "metadata": {},
   "outputs": [],
   "source": []
  },
  {
   "cell_type": "code",
   "execution_count": null,
   "metadata": {},
   "outputs": [],
   "source": []
  }
 ],
 "metadata": {
  "kernelspec": {
   "display_name": "Python 3",
   "language": "python",
   "name": "python3"
  },
  "language_info": {
   "codemirror_mode": {
    "name": "ipython",
    "version": 3
   },
   "file_extension": ".py",
   "mimetype": "text/x-python",
   "name": "python",
   "nbconvert_exporter": "python",
   "pygments_lexer": "ipython3",
   "version": "3.6.9"
  },
  "toc": {
   "base_numbering": 1,
   "nav_menu": {},
   "number_sections": false,
   "sideBar": true,
   "skip_h1_title": false,
   "title_cell": "Table of Contents",
   "title_sidebar": "Contents",
   "toc_cell": false,
   "toc_position": {},
   "toc_section_display": true,
   "toc_window_display": false
  }
 },
 "nbformat": 4,
 "nbformat_minor": 2
}
