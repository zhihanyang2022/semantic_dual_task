{
 "cells": [
  {
   "cell_type": "code",
   "execution_count": 5,
   "metadata": {
    "ExecuteTime": {
     "end_time": "2020-04-27T01:12:13.227412Z",
     "start_time": "2020-04-27T01:12:12.230642Z"
    }
   },
   "outputs": [],
   "source": [
    "import json\n",
    "import string\n",
    "import pandas as pd\n",
    "import numpy as np\n",
    "from sympy.utilities.iterables import multiset_permutations\n",
    "import matplotlib.pyplot as plt"
   ]
  },
  {
   "cell_type": "code",
   "execution_count": 6,
   "metadata": {
    "ExecuteTime": {
     "end_time": "2020-04-27T01:12:13.306429Z",
     "start_time": "2020-04-27T01:12:13.229958Z"
    }
   },
   "outputs": [],
   "source": [
    "word_lists = pd.read_csv('sdt_word_lists.csv').iloc[:,:4]"
   ]
  },
  {
   "cell_type": "code",
   "execution_count": 7,
   "metadata": {
    "ExecuteTime": {
     "end_time": "2020-04-27T01:12:13.325949Z",
     "start_time": "2020-04-27T01:12:13.310039Z"
    }
   },
   "outputs": [
    {
     "data": {
      "text/plain": [
       "60"
      ]
     },
     "execution_count": 7,
     "metadata": {},
     "output_type": "execute_result"
    }
   ],
   "source": [
    "len(word_lists['list1'])"
   ]
  },
  {
   "cell_type": "code",
   "execution_count": 8,
   "metadata": {
    "ExecuteTime": {
     "end_time": "2020-04-27T01:12:13.362298Z",
     "start_time": "2020-04-27T01:12:13.330217Z"
    }
   },
   "outputs": [
    {
     "data": {
      "text/html": [
       "<div>\n",
       "<style scoped>\n",
       "    .dataframe tbody tr th:only-of-type {\n",
       "        vertical-align: middle;\n",
       "    }\n",
       "\n",
       "    .dataframe tbody tr th {\n",
       "        vertical-align: top;\n",
       "    }\n",
       "\n",
       "    .dataframe thead th {\n",
       "        text-align: right;\n",
       "    }\n",
       "</style>\n",
       "<table border=\"1\" class=\"dataframe\">\n",
       "  <thead>\n",
       "    <tr style=\"text-align: right;\">\n",
       "      <th></th>\n",
       "      <th>list1</th>\n",
       "      <th>list2</th>\n",
       "      <th>list3</th>\n",
       "      <th>list4</th>\n",
       "    </tr>\n",
       "  </thead>\n",
       "  <tbody>\n",
       "    <tr>\n",
       "      <th>0</th>\n",
       "      <td>snow</td>\n",
       "      <td>card</td>\n",
       "      <td>lesson</td>\n",
       "      <td>house</td>\n",
       "    </tr>\n",
       "    <tr>\n",
       "      <th>1</th>\n",
       "      <td>cow</td>\n",
       "      <td>rat</td>\n",
       "      <td>lights</td>\n",
       "      <td>doll</td>\n",
       "    </tr>\n",
       "    <tr>\n",
       "      <th>2</th>\n",
       "      <td>store</td>\n",
       "      <td>mental</td>\n",
       "      <td>quick</td>\n",
       "      <td>back</td>\n",
       "    </tr>\n",
       "    <tr>\n",
       "      <th>3</th>\n",
       "      <td>owner</td>\n",
       "      <td>lily</td>\n",
       "      <td>guts</td>\n",
       "      <td>tower</td>\n",
       "    </tr>\n",
       "    <tr>\n",
       "      <th>4</th>\n",
       "      <td>shadow</td>\n",
       "      <td>story</td>\n",
       "      <td>lines</td>\n",
       "      <td>won</td>\n",
       "    </tr>\n",
       "  </tbody>\n",
       "</table>\n",
       "</div>"
      ],
      "text/plain": [
       "    list1   list2   list3  list4\n",
       "0    snow    card  lesson  house\n",
       "1     cow     rat  lights   doll\n",
       "2   store  mental   quick   back\n",
       "3   owner    lily    guts  tower\n",
       "4  shadow   story   lines    won"
      ]
     },
     "execution_count": 8,
     "metadata": {},
     "output_type": "execute_result"
    }
   ],
   "source": [
    "word_lists.head()"
   ]
  },
  {
   "cell_type": "code",
   "execution_count": 9,
   "metadata": {
    "ExecuteTime": {
     "end_time": "2020-04-27T01:12:13.492916Z",
     "start_time": "2020-04-27T01:12:13.486689Z"
    }
   },
   "outputs": [
    {
     "data": {
      "text/plain": [
       "4"
      ]
     },
     "execution_count": 9,
     "metadata": {},
     "output_type": "execute_result"
    }
   ],
   "source": [
    "len(word_lists.columns)"
   ]
  },
  {
   "cell_type": "markdown",
   "metadata": {},
   "source": [
    "## Dictionaries used to read-off the \"tape\""
   ]
  },
  {
   "cell_type": "code",
   "execution_count": 10,
   "metadata": {
    "ExecuteTime": {
     "end_time": "2020-04-27T01:12:14.185242Z",
     "start_time": "2020-04-27T01:12:14.179862Z"
    }
   },
   "outputs": [],
   "source": [
    "wlist_idxs = [0, 1, 2, 3]"
   ]
  },
  {
   "cell_type": "code",
   "execution_count": 11,
   "metadata": {
    "ExecuteTime": {
     "end_time": "2020-04-27T01:12:14.685077Z",
     "start_time": "2020-04-27T01:12:14.680227Z"
    }
   },
   "outputs": [],
   "source": [
    "all_permutations = list(multiset_permutations(wlist_idxs))\n",
    "letter_2_word_list_order = {}\n",
    "for i, letter in enumerate(list(string.ascii_uppercase)):\n",
    "    if i == len(all_permutations): break\n",
    "    letter_2_word_list_order[letter] = all_permutations[i]"
   ]
  },
  {
   "cell_type": "code",
   "execution_count": 12,
   "metadata": {
    "ExecuteTime": {
     "end_time": "2020-04-27T01:12:15.851921Z",
     "start_time": "2020-04-27T01:12:15.841838Z"
    }
   },
   "outputs": [
    {
     "data": {
      "text/plain": [
       "{'A': [0, 1, 2, 3],\n",
       " 'B': [0, 1, 3, 2],\n",
       " 'C': [0, 2, 1, 3],\n",
       " 'D': [0, 2, 3, 1],\n",
       " 'E': [0, 3, 1, 2],\n",
       " 'F': [0, 3, 2, 1],\n",
       " 'G': [1, 0, 2, 3],\n",
       " 'H': [1, 0, 3, 2],\n",
       " 'I': [1, 2, 0, 3],\n",
       " 'J': [1, 2, 3, 0],\n",
       " 'K': [1, 3, 0, 2],\n",
       " 'L': [1, 3, 2, 0],\n",
       " 'M': [2, 0, 1, 3],\n",
       " 'N': [2, 0, 3, 1],\n",
       " 'O': [2, 1, 0, 3],\n",
       " 'P': [2, 1, 3, 0],\n",
       " 'Q': [2, 3, 0, 1],\n",
       " 'R': [2, 3, 1, 0],\n",
       " 'S': [3, 0, 1, 2],\n",
       " 'T': [3, 0, 2, 1],\n",
       " 'U': [3, 1, 0, 2],\n",
       " 'V': [3, 1, 2, 0],\n",
       " 'W': [3, 2, 0, 1],\n",
       " 'X': [3, 2, 1, 0]}"
      ]
     },
     "execution_count": 12,
     "metadata": {},
     "output_type": "execute_result"
    }
   ],
   "source": [
    "letter_2_word_list_order"
   ]
  },
  {
   "cell_type": "code",
   "execution_count": 15,
   "metadata": {
    "ExecuteTime": {
     "end_time": "2020-04-27T01:12:48.989562Z",
     "start_time": "2020-04-27T01:12:48.981631Z"
    }
   },
   "outputs": [],
   "source": [
    "with open('letter_2_word_list_order.json', 'w+') as json_f:\n",
    "    json.dump(letter_2_word_list_order, json_f)"
   ]
  },
  {
   "cell_type": "code",
   "execution_count": 16,
   "metadata": {
    "ExecuteTime": {
     "end_time": "2020-04-27T01:12:51.368335Z",
     "start_time": "2020-04-27T01:12:51.356108Z"
    }
   },
   "outputs": [
    {
     "data": {
      "text/plain": [
       "['A',\n",
       " 'B',\n",
       " 'C',\n",
       " 'D',\n",
       " 'E',\n",
       " 'F',\n",
       " 'G',\n",
       " 'H',\n",
       " 'I',\n",
       " 'J',\n",
       " 'K',\n",
       " 'L',\n",
       " 'M',\n",
       " 'N',\n",
       " 'O',\n",
       " 'P',\n",
       " 'Q',\n",
       " 'R',\n",
       " 'S',\n",
       " 'T',\n",
       " 'U',\n",
       " 'V',\n",
       " 'W',\n",
       " 'X']"
      ]
     },
     "execution_count": 16,
     "metadata": {},
     "output_type": "execute_result"
    }
   ],
   "source": [
    "word_list_order_symbols = list(letter_2_word_list_order.keys())\n",
    "word_list_order_symbols"
   ]
  },
  {
   "cell_type": "code",
   "execution_count": 17,
   "metadata": {
    "ExecuteTime": {
     "end_time": "2020-04-27T01:12:51.599412Z",
     "start_time": "2020-04-27T01:12:51.593199Z"
    }
   },
   "outputs": [],
   "source": [
    "noise_idxs = [0, 1, 2, 3]"
   ]
  },
  {
   "cell_type": "code",
   "execution_count": 18,
   "metadata": {
    "ExecuteTime": {
     "end_time": "2020-04-27T01:12:51.856393Z",
     "start_time": "2020-04-27T01:12:51.852509Z"
    }
   },
   "outputs": [],
   "source": [
    "all_permutations = list(multiset_permutations(noise_idxs))\n",
    "integer_2_noise_order = {}\n",
    "for i in range(len(all_permutations)):\n",
    "    integer_2_noise_order[i] = all_permutations[i]"
   ]
  },
  {
   "cell_type": "code",
   "execution_count": 19,
   "metadata": {
    "ExecuteTime": {
     "end_time": "2020-04-27T01:12:52.888940Z",
     "start_time": "2020-04-27T01:12:52.879304Z"
    }
   },
   "outputs": [
    {
     "data": {
      "text/plain": [
       "{0: [0, 1, 2, 3],\n",
       " 1: [0, 1, 3, 2],\n",
       " 2: [0, 2, 1, 3],\n",
       " 3: [0, 2, 3, 1],\n",
       " 4: [0, 3, 1, 2],\n",
       " 5: [0, 3, 2, 1],\n",
       " 6: [1, 0, 2, 3],\n",
       " 7: [1, 0, 3, 2],\n",
       " 8: [1, 2, 0, 3],\n",
       " 9: [1, 2, 3, 0],\n",
       " 10: [1, 3, 0, 2],\n",
       " 11: [1, 3, 2, 0],\n",
       " 12: [2, 0, 1, 3],\n",
       " 13: [2, 0, 3, 1],\n",
       " 14: [2, 1, 0, 3],\n",
       " 15: [2, 1, 3, 0],\n",
       " 16: [2, 3, 0, 1],\n",
       " 17: [2, 3, 1, 0],\n",
       " 18: [3, 0, 1, 2],\n",
       " 19: [3, 0, 2, 1],\n",
       " 20: [3, 1, 0, 2],\n",
       " 21: [3, 1, 2, 0],\n",
       " 22: [3, 2, 0, 1],\n",
       " 23: [3, 2, 1, 0]}"
      ]
     },
     "execution_count": 19,
     "metadata": {},
     "output_type": "execute_result"
    }
   ],
   "source": [
    "integer_2_noise_order"
   ]
  },
  {
   "cell_type": "code",
   "execution_count": 20,
   "metadata": {
    "ExecuteTime": {
     "end_time": "2020-04-27T01:13:19.738493Z",
     "start_time": "2020-04-27T01:13:19.731220Z"
    }
   },
   "outputs": [],
   "source": [
    "with open('integer_2_noise_order.json', 'w+') as json_f:\n",
    "    json.dump(integer_2_noise_order, json_f)"
   ]
  },
  {
   "cell_type": "code",
   "execution_count": 75,
   "metadata": {
    "ExecuteTime": {
     "end_time": "2020-04-24T02:04:53.712280Z",
     "start_time": "2020-04-24T02:04:53.706775Z"
    }
   },
   "outputs": [],
   "source": [
    "noise_order_symbols = list(integer_2_noise_order.keys())"
   ]
  },
  {
   "cell_type": "code",
   "execution_count": 76,
   "metadata": {
    "ExecuteTime": {
     "end_time": "2020-04-24T02:04:53.974675Z",
     "start_time": "2020-04-24T02:04:53.969482Z"
    }
   },
   "outputs": [],
   "source": [
    "noise_idx_to_noise_filename = {\n",
    "    0:\"steady-state energetic\",\n",
    "    1:\"modulating energetic\",\n",
    "    2:\"informational\",\n",
    "    3:\"quiet\"\n",
    "}"
   ]
  },
  {
   "cell_type": "markdown",
   "metadata": {},
   "source": [
    "## Create a hypothetical \"tape\" for the SDT program to read-off"
   ]
  },
  {
   "cell_type": "markdown",
   "metadata": {},
   "source": [
    "A tape maps participant ids to a number corresponding to a particular order of noises and a letter corresponding to a particular order of word lists."
   ]
  },
  {
   "cell_type": "code",
   "execution_count": 79,
   "metadata": {
    "ExecuteTime": {
     "end_time": "2020-04-24T02:05:11.076595Z",
     "start_time": "2020-04-24T02:05:11.070870Z"
    }
   },
   "outputs": [],
   "source": [
    "num_participants = 80\n",
    "tape = {}\n",
    "for i in range(num_participants):\n",
    "    tape[i] = str(np.random.choice(noise_order_symbols)) + \"/\" + str(np.random.choice(word_list_order_symbols))"
   ]
  },
  {
   "cell_type": "code",
   "execution_count": 80,
   "metadata": {
    "ExecuteTime": {
     "end_time": "2020-04-24T02:05:12.130272Z",
     "start_time": "2020-04-24T02:05:12.120375Z"
    }
   },
   "outputs": [
    {
     "data": {
      "text/plain": [
       "{0: '14/B',\n",
       " 1: '4/D',\n",
       " 2: '12/B',\n",
       " 3: '4/H',\n",
       " 4: '9/A',\n",
       " 5: '17/I',\n",
       " 6: '3/D',\n",
       " 7: '21/N',\n",
       " 8: '12/U',\n",
       " 9: '0/F',\n",
       " 10: '14/G',\n",
       " 11: '23/V',\n",
       " 12: '4/M',\n",
       " 13: '5/O',\n",
       " 14: '5/D',\n",
       " 15: '17/O',\n",
       " 16: '10/D',\n",
       " 17: '14/X',\n",
       " 18: '16/V',\n",
       " 19: '10/W',\n",
       " 20: '1/H',\n",
       " 21: '23/B',\n",
       " 22: '18/T',\n",
       " 23: '6/H',\n",
       " 24: '16/T',\n",
       " 25: '4/V',\n",
       " 26: '7/M',\n",
       " 27: '5/T',\n",
       " 28: '1/R',\n",
       " 29: '3/E',\n",
       " 30: '17/V',\n",
       " 31: '2/I',\n",
       " 32: '0/M',\n",
       " 33: '4/T',\n",
       " 34: '8/Q',\n",
       " 35: '15/S',\n",
       " 36: '22/B',\n",
       " 37: '8/W',\n",
       " 38: '8/M',\n",
       " 39: '16/E',\n",
       " 40: '21/J',\n",
       " 41: '16/W',\n",
       " 42: '18/V',\n",
       " 43: '6/S',\n",
       " 44: '9/K',\n",
       " 45: '3/P',\n",
       " 46: '3/X',\n",
       " 47: '12/D',\n",
       " 48: '17/K',\n",
       " 49: '7/P',\n",
       " 50: '4/R',\n",
       " 51: '15/L',\n",
       " 52: '10/R',\n",
       " 53: '14/V',\n",
       " 54: '22/M',\n",
       " 55: '2/N',\n",
       " 56: '12/K',\n",
       " 57: '12/O',\n",
       " 58: '15/E',\n",
       " 59: '0/R',\n",
       " 60: '11/F',\n",
       " 61: '20/X',\n",
       " 62: '9/X',\n",
       " 63: '21/V',\n",
       " 64: '15/J',\n",
       " 65: '9/I',\n",
       " 66: '7/V',\n",
       " 67: '19/J',\n",
       " 68: '6/P',\n",
       " 69: '21/N',\n",
       " 70: '13/E',\n",
       " 71: '4/U',\n",
       " 72: '10/X',\n",
       " 73: '13/G',\n",
       " 74: '14/R',\n",
       " 75: '20/H',\n",
       " 76: '16/Q',\n",
       " 77: '16/J',\n",
       " 78: '21/R',\n",
       " 79: '11/G'}"
      ]
     },
     "execution_count": 80,
     "metadata": {},
     "output_type": "execute_result"
    }
   ],
   "source": [
    "tape"
   ]
  },
  {
   "cell_type": "code",
   "execution_count": 83,
   "metadata": {
    "ExecuteTime": {
     "end_time": "2020-04-24T02:06:08.838618Z",
     "start_time": "2020-04-24T02:06:08.832128Z"
    }
   },
   "outputs": [],
   "source": [
    "with open('tape.json', 'w+') as json_f:\n",
    "    json.dump(tape, json_f)"
   ]
  },
  {
   "cell_type": "markdown",
   "metadata": {},
   "source": []
  },
  {
   "cell_type": "code",
   "execution_count": null,
   "metadata": {},
   "outputs": [],
   "source": []
  },
  {
   "cell_type": "code",
   "execution_count": null,
   "metadata": {},
   "outputs": [],
   "source": []
  },
  {
   "cell_type": "code",
   "execution_count": null,
   "metadata": {},
   "outputs": [],
   "source": []
  },
  {
   "cell_type": "code",
   "execution_count": null,
   "metadata": {},
   "outputs": [],
   "source": []
  }
 ],
 "metadata": {
  "kernelspec": {
   "display_name": "Python 3",
   "language": "python",
   "name": "python3"
  },
  "language_info": {
   "codemirror_mode": {
    "name": "ipython",
    "version": 3
   },
   "file_extension": ".py",
   "mimetype": "text/x-python",
   "name": "python",
   "nbconvert_exporter": "python",
   "pygments_lexer": "ipython3",
   "version": "3.6.9"
  },
  "toc": {
   "base_numbering": 1,
   "nav_menu": {},
   "number_sections": false,
   "sideBar": true,
   "skip_h1_title": false,
   "title_cell": "Table of Contents",
   "title_sidebar": "Contents",
   "toc_cell": false,
   "toc_position": {},
   "toc_section_display": true,
   "toc_window_display": false
  }
 },
 "nbformat": 4,
 "nbformat_minor": 2
}
